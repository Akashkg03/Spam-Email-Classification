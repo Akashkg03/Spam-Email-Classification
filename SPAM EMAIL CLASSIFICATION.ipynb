{
 "cells": [
  {
   "cell_type": "markdown",
   "id": "b2e754a2",
   "metadata": {},
   "source": [
    "## Problem Statement\n",
    "- The goal of this project is to build a classifier that can accurately differentiate between spam and non-spam emails. This involves preprocessing the email text data, extracting relevant features, training a classification model, and evaluating its performance.\n",
    "\n",
    "### Approach\n",
    "- Using countvectorizer to convert the text data into numerical features\n",
    "- Model building using Naive Bayes algorithm."
   ]
  },
  {
   "cell_type": "markdown",
   "id": "e8d5c2bf",
   "metadata": {},
   "source": [
    "## Importing Necessary Libraries"
   ]
  },
  {
   "cell_type": "code",
   "execution_count": 162,
   "id": "7c2487e5",
   "metadata": {
    "ExecuteTime": {
     "end_time": "2024-02-08T04:50:21.573824Z",
     "start_time": "2024-02-08T04:50:21.557833Z"
    }
   },
   "outputs": [],
   "source": [
    "# for dataframe analysis and manipulation.\n",
    "import pandas as pd\n",
    "import numpy as np\n",
    "import regex as re\n",
    "\n",
    "# for data preprocessing\n",
    "from sklearn.preprocessing import LabelEncoder\n",
    "from sklearn.feature_extraction.text import CountVectorizer\n",
    "\n",
    "# for model Building\n",
    "from sklearn.model_selection import train_test_split\n",
    "from sklearn.naive_bayes import MultinomialNB\n",
    "from sklearn.metrics import accuracy_score,confusion_matrix,classification_report\n",
    "\n",
    "# for removing stopwords\n",
    "from nltk.corpus import stopwords\n",
    "stop = stopwords.words('english')"
   ]
  },
  {
   "cell_type": "markdown",
   "id": "1cfe986a",
   "metadata": {},
   "source": [
    "## Loading the Dataset"
   ]
  },
  {
   "cell_type": "code",
   "execution_count": 55,
   "id": "8db4ea13",
   "metadata": {
    "ExecuteTime": {
     "end_time": "2024-02-08T00:55:18.131715Z",
     "start_time": "2024-02-08T00:55:18.084745Z"
    },
    "scrolled": false
   },
   "outputs": [
    {
     "data": {
      "text/html": [
       "<div>\n",
       "<style scoped>\n",
       "    .dataframe tbody tr th:only-of-type {\n",
       "        vertical-align: middle;\n",
       "    }\n",
       "\n",
       "    .dataframe tbody tr th {\n",
       "        vertical-align: top;\n",
       "    }\n",
       "\n",
       "    .dataframe thead th {\n",
       "        text-align: right;\n",
       "    }\n",
       "</style>\n",
       "<table border=\"1\" class=\"dataframe\">\n",
       "  <thead>\n",
       "    <tr style=\"text-align: right;\">\n",
       "      <th></th>\n",
       "      <th>Label</th>\n",
       "      <th>Message</th>\n",
       "    </tr>\n",
       "  </thead>\n",
       "  <tbody>\n",
       "    <tr>\n",
       "      <th>0</th>\n",
       "      <td>ham</td>\n",
       "      <td>Go until jurong point, crazy.. Available only ...</td>\n",
       "    </tr>\n",
       "    <tr>\n",
       "      <th>1</th>\n",
       "      <td>ham</td>\n",
       "      <td>Ok lar... Joking wif u oni...</td>\n",
       "    </tr>\n",
       "    <tr>\n",
       "      <th>2</th>\n",
       "      <td>spam</td>\n",
       "      <td>Free entry in 2 a wkly comp to win FA Cup fina...</td>\n",
       "    </tr>\n",
       "    <tr>\n",
       "      <th>3</th>\n",
       "      <td>ham</td>\n",
       "      <td>U dun say so early hor... U c already then say...</td>\n",
       "    </tr>\n",
       "    <tr>\n",
       "      <th>4</th>\n",
       "      <td>ham</td>\n",
       "      <td>Nah I don't think he goes to usf, he lives aro...</td>\n",
       "    </tr>\n",
       "  </tbody>\n",
       "</table>\n",
       "</div>"
      ],
      "text/plain": [
       "  Label                                            Message\n",
       "0   ham  Go until jurong point, crazy.. Available only ...\n",
       "1   ham                      Ok lar... Joking wif u oni...\n",
       "2  spam  Free entry in 2 a wkly comp to win FA Cup fina...\n",
       "3   ham  U dun say so early hor... U c already then say...\n",
       "4   ham  Nah I don't think he goes to usf, he lives aro..."
      ]
     },
     "execution_count": 55,
     "metadata": {},
     "output_type": "execute_result"
    }
   ],
   "source": [
    "df = pd.read_table('SMSSpamCollection',names =['Label','Message'])\n",
    "df.head()"
   ]
  },
  {
   "cell_type": "markdown",
   "id": "37472a6e",
   "metadata": {},
   "source": [
    "#### About the dataset\n",
    "- The dataset contains labeled emails, where each email is classified as spam or ham. It has both the email text and corresponding labels."
   ]
  },
  {
   "cell_type": "code",
   "execution_count": 56,
   "id": "c0e1b5bb",
   "metadata": {
    "ExecuteTime": {
     "end_time": "2024-02-08T00:55:21.895558Z",
     "start_time": "2024-02-08T00:55:21.873571Z"
    },
    "scrolled": true
   },
   "outputs": [
    {
     "name": "stdout",
     "output_type": "stream",
     "text": [
      "<class 'pandas.core.frame.DataFrame'>\n",
      "RangeIndex: 5572 entries, 0 to 5571\n",
      "Data columns (total 2 columns):\n",
      " #   Column   Non-Null Count  Dtype \n",
      "---  ------   --------------  ----- \n",
      " 0   Label    5572 non-null   object\n",
      " 1   Message  5572 non-null   object\n",
      "dtypes: object(2)\n",
      "memory usage: 87.2+ KB\n"
     ]
    }
   ],
   "source": [
    "df.info()"
   ]
  },
  {
   "cell_type": "markdown",
   "id": "262c14e2",
   "metadata": {},
   "source": [
    "#### Analysis\n",
    "- There are no missing value in the dataset.\n",
    "- The target value is in categorical form"
   ]
  },
  {
   "cell_type": "markdown",
   "id": "b5aefbb5",
   "metadata": {},
   "source": [
    "## Data preparation"
   ]
  },
  {
   "cell_type": "markdown",
   "id": "f9a0cb1c",
   "metadata": {},
   "source": [
    "### Encoding Target variable"
   ]
  },
  {
   "cell_type": "code",
   "execution_count": 59,
   "id": "371bf018",
   "metadata": {
    "ExecuteTime": {
     "end_time": "2024-02-08T00:55:32.281597Z",
     "start_time": "2024-02-08T00:55:32.273601Z"
    }
   },
   "outputs": [],
   "source": [
    "le = LabelEncoder()\n",
    "df['Label'] = le.fit_transform(df['Label'])"
   ]
  },
  {
   "cell_type": "markdown",
   "id": "5382a6c6",
   "metadata": {},
   "source": [
    "### Data cleaning"
   ]
  },
  {
   "cell_type": "code",
   "execution_count": 57,
   "id": "e127d607",
   "metadata": {
    "ExecuteTime": {
     "end_time": "2024-02-08T00:55:26.670815Z",
     "start_time": "2024-02-08T00:55:26.659821Z"
    }
   },
   "outputs": [],
   "source": [
    "def data_cleaning(text):\n",
    "    text = str(text)\n",
    "    text = text.lower()\n",
    "    text = re.sub('[^a-z]',' ',text)\n",
    "    words = text.split()\n",
    "    imp_words = [w for w in words if w not in stop]\n",
    "    return ' '.join (imp_words)"
   ]
  },
  {
   "cell_type": "code",
   "execution_count": 58,
   "id": "72e50c40",
   "metadata": {
    "ExecuteTime": {
     "end_time": "2024-02-08T00:55:28.048058Z",
     "start_time": "2024-02-08T00:55:27.489347Z"
    }
   },
   "outputs": [],
   "source": [
    "df['Message'] = df['Message'].apply(lambda x:data_cleaning(x))"
   ]
  },
  {
   "cell_type": "markdown",
   "id": "9e2d8363",
   "metadata": {},
   "source": [
    "### Train test split"
   ]
  },
  {
   "cell_type": "code",
   "execution_count": 61,
   "id": "ee222838",
   "metadata": {
    "ExecuteTime": {
     "end_time": "2024-02-08T00:56:06.983681Z",
     "start_time": "2024-02-08T00:56:06.976689Z"
    }
   },
   "outputs": [],
   "source": [
    "X = df['Message']\n",
    "y = df['Label']"
   ]
  },
  {
   "cell_type": "code",
   "execution_count": 62,
   "id": "8673f415",
   "metadata": {
    "ExecuteTime": {
     "end_time": "2024-02-08T00:56:07.792217Z",
     "start_time": "2024-02-08T00:56:07.781225Z"
    }
   },
   "outputs": [],
   "source": [
    "X_train,X_test,y_train,y_test = train_test_split(X,y,test_size = 0.2,random_state = 5)"
   ]
  },
  {
   "cell_type": "markdown",
   "id": "6c999096",
   "metadata": {},
   "source": [
    "### Feature extraction"
   ]
  },
  {
   "cell_type": "markdown",
   "id": "2c431870",
   "metadata": {},
   "source": [
    "- Converting the text data into numerical features using countvectorizer."
   ]
  },
  {
   "cell_type": "code",
   "execution_count": 63,
   "id": "de48ddc5",
   "metadata": {
    "ExecuteTime": {
     "end_time": "2024-02-08T00:56:47.197642Z",
     "start_time": "2024-02-08T00:56:47.067682Z"
    }
   },
   "outputs": [],
   "source": [
    "cv = CountVectorizer()\n",
    "X_train = cv.fit_transform(X_train)\n",
    "X_test = cv.transform(X_test)"
   ]
  },
  {
   "cell_type": "markdown",
   "id": "1cd5ed0b",
   "metadata": {},
   "source": [
    "## Model Building"
   ]
  },
  {
   "cell_type": "markdown",
   "id": "5a7f84b5",
   "metadata": {},
   "source": [
    "### Model training using Naive Bayes classifier"
   ]
  },
  {
   "cell_type": "code",
   "execution_count": null,
   "id": "bf629d2c",
   "metadata": {},
   "outputs": [],
   "source": [
    "# model training\n",
    "multi_nb = MultinomialNB()\n",
    "multi_nb.fit(X_train,y_train)"
   ]
  },
  {
   "cell_type": "code",
   "execution_count": 149,
   "id": "8111e97c",
   "metadata": {
    "ExecuteTime": {
     "end_time": "2024-02-08T02:43:54.149381Z",
     "start_time": "2024-02-08T02:43:54.111406Z"
    },
    "scrolled": false
   },
   "outputs": [
    {
     "name": "stdout",
     "output_type": "stream",
     "text": [
      "Accuracy: 0.9919\n",
      "Confusion Matrix:\n",
      " [[966   4]\n",
      " [  5 140]]\n",
      "\n",
      "Classification Report:\n",
      "               precision    recall  f1-score   support\n",
      "\n",
      "           0       0.99      1.00      1.00       970\n",
      "           1       0.97      0.97      0.97       145\n",
      "\n",
      "    accuracy                           0.99      1115\n",
      "   macro avg       0.98      0.98      0.98      1115\n",
      "weighted avg       0.99      0.99      0.99      1115\n",
      "\n"
     ]
    }
   ],
   "source": [
    "# model evaluation\n",
    "y_pred = multi_nb.predict(X_test)\n",
    "accuracy = accuracy_score(y_test,y_pred)\n",
    "conf_matrix = confusion_matrix(y_test,y_pred)\n",
    "report = classification_report(y_test,y_pred)\n",
    "\n",
    "# printing scores                    \n",
    "print(\"Accuracy:\", round(accuracy,4))\n",
    "print(\"Confusion Matrix:\\n\", conf_matrix)\n",
    "print(\"\\nClassification Report:\\n\",report)"
   ]
  },
  {
   "cell_type": "markdown",
   "id": "3125032f",
   "metadata": {},
   "source": [
    "### Observation:\n",
    "- The model has high accuracy of 99.19%, indicating its ability to correctly classify the majority of emails.\n",
    "- confusion matrix has high true positive and true negative values, indicating the model is accurately classifying spam and ham emails as shown by high precision and recall scores."
   ]
  },
  {
   "cell_type": "markdown",
   "id": "b5600c10",
   "metadata": {
    "ExecuteTime": {
     "end_time": "2024-02-08T04:31:09.871087Z",
     "start_time": "2024-02-08T04:31:09.865091Z"
    }
   },
   "source": [
    "## Conclusion\n",
    "- The spam classification model has high performance in classifying both spam and ham emails.\n",
    "- But the evaluation of the model was based on a specific dataset and may not generalize to all email spam classification scenarios.\n",
    "- In that case we can use different feature extraction technique like TF-IDF and Tokenizer and also different training algorithm like SVM, Random Forest and also deep sequence modelling like RNN,LSTM."
   ]
  },
  {
   "cell_type": "markdown",
   "id": "03c5bf63",
   "metadata": {},
   "source": [
    "### Predictions on sample data"
   ]
  },
  {
   "cell_type": "code",
   "execution_count": 17,
   "id": "63705423",
   "metadata": {
    "ExecuteTime": {
     "end_time": "2024-02-07T11:26:18.488164Z",
     "start_time": "2024-02-07T11:26:18.368225Z"
    }
   },
   "outputs": [],
   "source": [
    "sample_data1 = ['Your Mobile number has been awarded with a rs2000 Bonus Caller Prize.Call 09058095201 from land line. Valid 12hrs only']\n",
    "sample_data2 = ['I think I‘m waiting for the same bus! Inform me when you get there, if you ever get there.']\n",
    "sample_data3 = ['PRIVATE! Your 2004 Account Statement for 07742676969 shows 786 unredeemed Bonus Points.To claim call 08719180248 Identifier Code: 45239 Expires']"
   ]
  },
  {
   "cell_type": "code",
   "execution_count": 157,
   "id": "80d1871b",
   "metadata": {
    "ExecuteTime": {
     "end_time": "2024-02-08T04:29:39.472960Z",
     "start_time": "2024-02-08T04:29:39.462966Z"
    }
   },
   "outputs": [],
   "source": [
    "def predictor(data):\n",
    "    test = pd.Series(data)\n",
    "    cleaned_data = test.apply(lambda x:data_cleaning(x))\n",
    "    tranform_data = cv.transform(cleaned_data)\n",
    "    result = le.inverse_transform(model.predict(tranform_data))[0]\n",
    "    return result"
   ]
  },
  {
   "cell_type": "code",
   "execution_count": 158,
   "id": "52334328",
   "metadata": {
    "ExecuteTime": {
     "end_time": "2024-02-08T04:29:49.593155Z",
     "start_time": "2024-02-08T04:29:49.581163Z"
    }
   },
   "outputs": [
    {
     "data": {
      "text/plain": [
       "'spam'"
      ]
     },
     "execution_count": 158,
     "metadata": {},
     "output_type": "execute_result"
    }
   ],
   "source": [
    "predictor(sample_data1)"
   ]
  },
  {
   "cell_type": "code",
   "execution_count": 159,
   "id": "978bc606",
   "metadata": {
    "ExecuteTime": {
     "end_time": "2024-02-08T04:29:56.070436Z",
     "start_time": "2024-02-08T04:29:56.056463Z"
    }
   },
   "outputs": [
    {
     "data": {
      "text/plain": [
       "'ham'"
      ]
     },
     "execution_count": 159,
     "metadata": {},
     "output_type": "execute_result"
    }
   ],
   "source": [
    "prediction(sample_data2)"
   ]
  },
  {
   "cell_type": "code",
   "execution_count": 160,
   "id": "1f216c6d",
   "metadata": {
    "ExecuteTime": {
     "end_time": "2024-02-08T04:30:00.414941Z",
     "start_time": "2024-02-08T04:30:00.398957Z"
    }
   },
   "outputs": [
    {
     "data": {
      "text/plain": [
       "'spam'"
      ]
     },
     "execution_count": 160,
     "metadata": {},
     "output_type": "execute_result"
    }
   ],
   "source": [
    "prediction(sample_data3)"
   ]
  }
 ],
 "metadata": {
  "kernelspec": {
   "display_name": "Python 3 (ipykernel)",
   "language": "python",
   "name": "python3"
  },
  "language_info": {
   "codemirror_mode": {
    "name": "ipython",
    "version": 3
   },
   "file_extension": ".py",
   "mimetype": "text/x-python",
   "name": "python",
   "nbconvert_exporter": "python",
   "pygments_lexer": "ipython3",
   "version": "3.9.13"
  }
 },
 "nbformat": 4,
 "nbformat_minor": 5
}
